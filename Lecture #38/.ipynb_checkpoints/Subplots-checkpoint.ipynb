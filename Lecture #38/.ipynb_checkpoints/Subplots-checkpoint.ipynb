{
 "cells": [
  {
   "cell_type": "code",
   "execution_count": 10,
   "id": "61764b72",
   "metadata": {},
   "outputs": [],
   "source": [
    "import seaborn as sns\n",
    "import matplotlib.pyplot as plt\n",
    "\n",
    "# Load the example tips dataset\n",
    "tips = sns.load_dataset(\"tips\")\n",
    "\n",
    "# Create a figure with 2 subplots side-by-side\n",
    "fig, axes = plt.subplots(nrows=1, ncols=2, figsize=(10, 5))\n",
    "\n",
    "# Plot the first subplot - distribution plot of total bill\n",
    "sns.histplot(ax=axes[0], data=tips, x=\"total_bill\", kde=True, color=\"red\", alpha=0.5)\n",
    "\n",
    "# Set the title and x/y axis labels for the first subplot\n",
    "axes[0].set_title(\"Distribution of Total Bill\")\n",
    "axes[0].set_xlabel(\"Total Bill\")\n",
    "axes[0].set_ylabel(\"Count\")\n",
    "\n",
    "# Plot the second subplot - scatter plot of total bill vs tip with hue based on time of day\n",
    "sns.scatterplot(ax=axes[1], data=tips, x=\"total_bill\", y=\"tip\", hue=\"time\")\n",
    "\n",
    "# Set the title and x/y axis labels for the second subplot\n",
    "axes[1].set_title(\"Total Bill vs Tip\")\n",
    "axes[1].set_xlabel(\"Total Bill\")\n",
    "axes[1].set_ylabel(\"Tip\")\n",
    "\n",
    "# Adjust the spacing between subplots\n",
    "plt.subplots_adjust(wspace=0.3)\n",
    "\n",
    "# Show the plot\n",
    "plt.show()\n"
   ]
  },
  {
   "cell_type": "code",
   "execution_count": null,
   "id": "84dc2e24",
   "metadata": {},
   "outputs": [],
   "source": []
  }
 ],
 "metadata": {
  "kernelspec": {
   "display_name": "Python 3 (ipykernel)",
   "language": "python",
   "name": "python3"
  },
  "language_info": {
   "codemirror_mode": {
    "name": "ipython",
    "version": 3
   },
   "file_extension": ".py",
   "mimetype": "text/x-python",
   "name": "python",
   "nbconvert_exporter": "python",
   "pygments_lexer": "ipython3",
   "version": "3.9.7"
  }
 },
 "nbformat": 4,
 "nbformat_minor": 5
}
