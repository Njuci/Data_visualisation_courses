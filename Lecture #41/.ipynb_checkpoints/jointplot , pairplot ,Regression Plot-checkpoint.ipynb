{
 "cells": [
  {
   "cell_type": "markdown",
   "id": "3d0a9774",
   "metadata": {},
   "source": [
    "`jointplot`"
   ]
  },
  {
   "cell_type": "code",
   "execution_count": 9,
   "id": "1d19cf2a",
   "metadata": {},
   "outputs": [],
   "source": [
    "import seaborn as sns\n",
    "import matplotlib.pyplot as plt\n",
    "# Load the example tips dataset\n",
    "tips = sns.load_dataset(\"tips\")\n",
    "\n",
    "# Create a joint plot of total_bill and tip\n",
    "sns.jointplot(data=tips, x=\"total_bill\", y=\"tip\")\n",
    "# Show the plot\n",
    "plt.show()\n"
   ]
  },
  {
   "cell_type": "markdown",
   "id": "566268c5",
   "metadata": {},
   "source": [
    "`pairplot`"
   ]
  },
  {
   "cell_type": "code",
   "execution_count": null,
   "id": "1c6ef34a",
   "metadata": {},
   "outputs": [],
   "source": [
    "import seaborn as sns\n",
    "import matplotlib.pyplot as plt\n",
    "\n",
    "# Load the example tips dataset\n",
    "tips = sns.load_dataset(\"tips\")\n",
    "\n",
    "# Create a pair plot of the numeric variables in the tips dataset\n",
    "sns.pairplot(data=tips.select_dtypes(include=['float64', 'int64']), hue='sex')\n",
    "\n",
    "# Show the plot\n",
    "plt.show()\n"
   ]
  },
  {
   "cell_type": "markdown",
   "id": "ec1e68a9",
   "metadata": {},
   "source": [
    "`Regression Plot`"
   ]
  },
  {
   "cell_type": "code",
   "execution_count": null,
   "id": "75c10420",
   "metadata": {},
   "outputs": [],
   "source": [
    "import seaborn as sns\n",
    "import matplotlib.pyplot as plt\n",
    "\n",
    "# Load the example tips dataset\n",
    "tips = sns.load_dataset(\"tips\")\n",
    "\n",
    "# Create a regression plot of total_bill and tip\n",
    "sns.regplot(data=tips, x=\"total_bill\", y=\"tip\") #hue = sex\n",
    "\n",
    "# Show the plot\n",
    "plt.show()\n"
   ]
  }
 ],
 "metadata": {
  "kernelspec": {
   "display_name": "Python 3 (ipykernel)",
   "language": "python",
   "name": "python3"
  },
  "language_info": {
   "codemirror_mode": {
    "name": "ipython",
    "version": 3
   },
   "file_extension": ".py",
   "mimetype": "text/x-python",
   "name": "python",
   "nbconvert_exporter": "python",
   "pygments_lexer": "ipython3",
   "version": "3.9.7"
  }
 },
 "nbformat": 4,
 "nbformat_minor": 5
}
