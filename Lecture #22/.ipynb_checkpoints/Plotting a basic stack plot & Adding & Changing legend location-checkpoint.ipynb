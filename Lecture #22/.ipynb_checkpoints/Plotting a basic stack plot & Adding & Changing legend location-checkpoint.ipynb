{
 "cells": [
  {
   "cell_type": "code",
   "execution_count": 2,
   "id": "b783252b",
   "metadata": {},
   "outputs": [],
   "source": [
    "from matplotlib import pyplot as plt\n",
    "\n",
    "plt.style.use(\"fivethirtyeight\")\n",
    "\n",
    "\n",
    "minutes = [1, 2, 3, 4, 5, 6, 7, 8, 9]\n",
    "\n",
    "player1 = [1, 2, 3, 3, 4, 4, 4, 4, 5]\n",
    "player2 = [1, 1, 1, 1, 2, 2, 2, 3, 4]\n",
    "player3 = [1, 1, 1, 2, 2, 2, 3, 3, 3]\n",
    "\n",
    "plt.pie([1, 1, 1], labels=[\"Player 1\", \"Player2\", \"Player3\"])\n",
    "\n",
    "plt.title(\"My Awesome Stack Plot\")\n",
    "plt.tight_layout()\n",
    "plt.show()\n",
    "\n",
    "\n",
    "\n",
    "# Colors:\n",
    "# Blue = #008fd5\n",
    "# Red = #fc4f30\n",
    "# Yellow = #e5ae37\n",
    "# Green = #6d904f"
   ]
  },
  {
   "cell_type": "code",
   "execution_count": null,
   "id": "27329d87",
   "metadata": {},
   "outputs": [],
   "source": [
    "# player1 = [8, 6, 5, 5, 4, 2, 1, 1, 0]\n",
    "# player2 = [0, 1, 2, 2, 2, 4, 4, 4, 4]\n",
    "# player3 = [0, 1, 1, 1, 2, 2, 3, 3, 4]"
   ]
  }
 ],
 "metadata": {
  "kernelspec": {
   "display_name": "Python 3 (ipykernel)",
   "language": "python",
   "name": "python3"
  },
  "language_info": {
   "codemirror_mode": {
    "name": "ipython",
    "version": 3
   },
   "file_extension": ".py",
   "mimetype": "text/x-python",
   "name": "python",
   "nbconvert_exporter": "python",
   "pygments_lexer": "ipython3",
   "version": "3.9.7"
  }
 },
 "nbformat": 4,
 "nbformat_minor": 5
}
