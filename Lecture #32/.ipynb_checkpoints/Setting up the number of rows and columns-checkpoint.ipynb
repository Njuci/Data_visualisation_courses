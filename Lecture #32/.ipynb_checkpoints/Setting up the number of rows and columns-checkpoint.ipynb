{
 "cells": [
  {
   "cell_type": "code",
   "execution_count": 6,
   "id": "425d061a",
   "metadata": {},
   "outputs": [],
   "source": [
    "import matplotlib.pyplot as plt\n",
    "\n",
    "# Create a figure with 2 rows and 3 columns of subplots\n",
    "fig, axes = plt.subplots(nrows=2, ncols=3, figsize=(10, 6))\n",
    "\n",
    "# Plot on the first subplot\n",
    "axes[0, 0].plot([1, 2, 3], [4, 5, 6])\n",
    "\n",
    "# Plot on the second subplot\n",
    "axes[0, 1].scatter([1, 2, 3], [4, 5, 6])\n",
    "\n",
    "# Plot on the third subplot\n",
    "axes[0, 2].bar([1, 2, 3], [4, 5, 6])\n",
    "\n",
    "# Plot on the fourth subplot\n",
    "axes[1, 0].hist([1, 2, 2, 3, 3, 3, 4, 4, 4, 4])\n",
    "\n",
    "# Plot on the fifth subplot\n",
    "axes[1, 1].pie([1, 2, 3], labels=[\"A\", \"B\", \"C\"])\n",
    "\n",
    "# Plot on the sixth subplot\n",
    "axes[1, 2].imshow([[1, 2], [3, 4]])\n",
    "\n",
    "# Show the figure\n",
    "plt.show()\n"
   ]
  },
  {
   "cell_type": "code",
   "execution_count": null,
   "id": "b83eb0b0",
   "metadata": {},
   "outputs": [],
   "source": []
  }
 ],
 "metadata": {
  "kernelspec": {
   "display_name": "Python 3 (ipykernel)",
   "language": "python",
   "name": "python3"
  },
  "language_info": {
   "codemirror_mode": {
    "name": "ipython",
    "version": 3
   },
   "file_extension": ".py",
   "mimetype": "text/x-python",
   "name": "python",
   "nbconvert_exporter": "python",
   "pygments_lexer": "ipython3",
   "version": "3.9.7"
  }
 },
 "nbformat": 4,
 "nbformat_minor": 5
}
