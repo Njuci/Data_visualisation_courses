{
 "cells": [
  {
   "cell_type": "code",
   "execution_count": 11,
   "id": "a7906494",
   "metadata": {},
   "outputs": [],
   "source": [
    "# import numpy as np\n",
    "# import matplotlib.pyplot as plt\n",
    "\n",
    "# # Generate random data\n",
    "# x = np.random.normal(0, 1, 100)\n",
    "# y = np.random.normal(0, 1, 100)\n",
    "\n",
    "# # Define a condition for the marker color\n",
    "# condition = x > 0\n",
    "\n",
    "# # Create an array of marker colors based on the condition\n",
    "# colors = np.where(condition, 'blue', 'red')\n",
    "\n",
    "# # Create scatter plot with custom marker colors based on the condition\n",
    "# plt.scatter(x, y, c=colors)\n",
    "\n",
    "# # Add labels and title\n",
    "# plt.xlabel('X-axis label')\n",
    "# plt.ylabel('Y-axis label')\n",
    "# plt.title('Scatter Plot with Custom Marker Colors based on Condition')\n",
    "\n",
    "# # Show plot\n",
    "# plt.show()\n"
   ]
  },
  {
   "cell_type": "code",
   "execution_count": 12,
   "id": "fcb3b7d4",
   "metadata": {},
   "outputs": [],
   "source": [
    "# import numpy as np\n",
    "# import matplotlib.pyplot as plt\n",
    "\n",
    "# # Generate random data\n",
    "# x = np.random.normal(0, 1, 100)\n",
    "# y = np.random.normal(0, 1, 100)\n",
    "# z = np.random.normal(1, 0.5, 100)  # third variable to determine marker color\n",
    "\n",
    "# print(z)\n",
    "# # Create scatter plot with marker color determined by z values\n",
    "# plt.scatter(x, y, c='0.46846257', cmap='cool')           #viridis , magma , cool ,hot\n",
    "\n",
    "# # Add colorbar\n",
    "# plt.colorbar()\n",
    "\n",
    "# # Add labels and title\n",
    "# plt.xlabel('X-axis label')\n",
    "# plt.ylabel('Y-axis label')\n",
    "# plt.title('Scatter Plot with Custom Marker Colors based on Z values')\n",
    "\n",
    "# # Show plot\n",
    "# plt.show()\n"
   ]
  },
  {
   "cell_type": "code",
   "execution_count": null,
   "id": "f201f276",
   "metadata": {},
   "outputs": [],
   "source": []
  }
 ],
 "metadata": {
  "kernelspec": {
   "display_name": "Python 3 (ipykernel)",
   "language": "python",
   "name": "python3"
  },
  "language_info": {
   "codemirror_mode": {
    "name": "ipython",
    "version": 3
   },
   "file_extension": ".py",
   "mimetype": "text/x-python",
   "name": "python",
   "nbconvert_exporter": "python",
   "pygments_lexer": "ipython3",
   "version": "3.9.7"
  }
 },
 "nbformat": 4,
 "nbformat_minor": 5
}
