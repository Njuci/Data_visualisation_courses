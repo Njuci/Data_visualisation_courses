{
 "cells": [
  {
   "cell_type": "code",
   "execution_count": 8,
   "id": "82e74fe9",
   "metadata": {},
   "outputs": [],
   "source": [
    "import numpy as np\n",
    "import matplotlib.pyplot as plt\n",
    "\n",
    "# Generate random data\n",
    "x = np.random.normal(0, 1, 100)\n",
    "y = np.random.normal(0, 1, 100)\n",
    "\n",
    "# Create scatter plot with custom dot size\n",
    "plt.scatter(x, y, s=100)\n",
    "\n",
    "# Add labels and title\n",
    "plt.xlabel('X-axis label')\n",
    "plt.ylabel('Y-axis label')\n",
    "plt.title('Scatter Plot with Custom Dot Size')\n",
    "\n",
    "# Show plot\n",
    "plt.show()\n"
   ]
  },
  {
   "cell_type": "code",
   "execution_count": 9,
   "id": "3405e273",
   "metadata": {},
   "outputs": [],
   "source": [
    "# import numpy as np\n",
    "# import matplotlib.pyplot as plt\n",
    "\n",
    "# # Generate random data and sizes\n",
    "# x = np.random.normal(0, 1, 100)\n",
    "# y = np.random.normal(0, 1, 100)\n",
    "# sizes = np.random.randint(10, 100, size=100)\n",
    "\n",
    "# # Create scatter plot with custom dot sizes\n",
    "# plt.scatter(x, y, s=sizes)\n",
    "\n",
    "# # Add labels and title\n",
    "# plt.xlabel('X-axis label')\n",
    "# plt.ylabel('Y-axis label')\n",
    "# plt.title('Scatter Plot with Custom Dot Sizes')\n",
    "\n",
    "# # Show plot\n",
    "# plt.show()\n"
   ]
  },
  {
   "cell_type": "code",
   "execution_count": null,
   "id": "ebfb5c26",
   "metadata": {},
   "outputs": [],
   "source": []
  },
  {
   "cell_type": "code",
   "execution_count": null,
   "id": "b470c76b",
   "metadata": {},
   "outputs": [],
   "source": []
  },
  {
   "cell_type": "code",
   "execution_count": null,
   "id": "26a8fd09",
   "metadata": {},
   "outputs": [],
   "source": []
  }
 ],
 "metadata": {
  "kernelspec": {
   "display_name": "Python 3 (ipykernel)",
   "language": "python",
   "name": "python3"
  },
  "language_info": {
   "codemirror_mode": {
    "name": "ipython",
    "version": 3
   },
   "file_extension": ".py",
   "mimetype": "text/x-python",
   "name": "python",
   "nbconvert_exporter": "python",
   "pygments_lexer": "ipython3",
   "version": "3.9.7"
  }
 },
 "nbformat": 4,
 "nbformat_minor": 5
}
