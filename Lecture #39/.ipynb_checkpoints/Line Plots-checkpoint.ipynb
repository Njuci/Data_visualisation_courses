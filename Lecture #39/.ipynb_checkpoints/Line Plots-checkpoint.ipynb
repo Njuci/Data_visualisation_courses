{
 "cells": [
  {
   "cell_type": "code",
   "execution_count": 4,
   "id": "5ffd0071",
   "metadata": {},
   "outputs": [],
   "source": [
    "import seaborn as sns\n",
    "import matplotlib.pyplot as plt\n",
    "\n",
    "# Load the example tips dataset\n",
    "tips = sns.load_dataset(\"tips\")\n",
    "\n",
    "# Create a line plot of total_bill over time\n",
    "sns.lineplot(data=tips, x=\"day\", y=\"total_bill\")\n",
    "\n",
    "# Set the title and axis labels\n",
    "plt.title(\"Total Bill by Day\")\n",
    "plt.xlabel(\"Day of the Week\")\n",
    "plt.ylabel(\"Total Bill\")\n",
    "\n",
    "# Show the plot\n",
    "plt.show()"
   ]
  },
  {
   "cell_type": "code",
   "execution_count": null,
   "id": "4153b108",
   "metadata": {},
   "outputs": [],
   "source": []
  }
 ],
 "metadata": {
  "kernelspec": {
   "display_name": "Python 3 (ipykernel)",
   "language": "python",
   "name": "python3"
  },
  "language_info": {
   "codemirror_mode": {
    "name": "ipython",
    "version": 3
   },
   "file_extension": ".py",
   "mimetype": "text/x-python",
   "name": "python",
   "nbconvert_exporter": "python",
   "pygments_lexer": "ipython3",
   "version": "3.9.7"
  }
 },
 "nbformat": 4,
 "nbformat_minor": 5
}
