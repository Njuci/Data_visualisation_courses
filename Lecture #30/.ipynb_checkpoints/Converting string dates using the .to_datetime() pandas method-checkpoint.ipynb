{
 "cells": [
  {
   "cell_type": "code",
   "execution_count": 1,
   "id": "33ce05b7",
   "metadata": {},
   "outputs": [
    {
     "name": "stdout",
     "output_type": "stream",
     "text": [
      "        date\n",
      "0 2022-03-26\n",
      "1 2022-03-27\n",
      "2 2022-03-28\n"
     ]
    }
   ],
   "source": [
    "import pandas as pd\n",
    "\n",
    "# Create a pandas DataFrame with a column of date strings\n",
    "df = pd.DataFrame({'date': ['2022-03-26', '2022-03-27', '2022-03-28']})\n",
    "\n",
    "# Convert the 'date' column to datetime objects using to_datetime()\n",
    "df['date'] = pd.to_datetime(df['date'])\n",
    "\n",
    "# Print the resulting DataFrame\n",
    "print(df)\n"
   ]
  },
  {
   "cell_type": "code",
   "execution_count": 2,
   "id": "231e7df7",
   "metadata": {},
   "outputs": [
    {
     "name": "stdout",
     "output_type": "stream",
     "text": [
      "        date\n",
      "0 2022-03-26\n",
      "1 2022-03-27\n",
      "2 2022-03-28\n"
     ]
    }
   ],
   "source": [
    "import pandas as pd\n",
    "\n",
    "# Create a pandas DataFrame with a column of date strings\n",
    "df = pd.DataFrame({'date': ['26/03/2022', '27/03/2022', '28/03/2022']})\n",
    "\n",
    "# Convert the 'date' column to datetime objects using to_datetime() with format parameter\n",
    "df['date'] = pd.to_datetime(df['date'], format='%d/%m/%Y')\n",
    "\n",
    "# Print the resulting DataFrame\n",
    "print(df)\n"
   ]
  },
  {
   "cell_type": "code",
   "execution_count": 3,
   "id": "a6fd5a8e",
   "metadata": {},
   "outputs": [
    {
     "name": "stdout",
     "output_type": "stream",
     "text": [
      "        date\n",
      "0 2022-03-26\n",
      "1 2022-03-27\n",
      "2 2022-01-01\n",
      "3 2022-03-29\n"
     ]
    }
   ],
   "source": [
    "import pandas as pd\n",
    "import numpy as np\n",
    "\n",
    "# Create a pandas DataFrame with a column of date strings, including a missing value\n",
    "df = pd.DataFrame({'date': ['2022-03-26', '2022-03-27', None, '2022-03-29']})\n",
    "\n",
    "# Convert the 'date' column to datetime objects using to_datetime() with errors parameter\n",
    "df['date'] = pd.to_datetime(df['date'], errors='coerce')\n",
    "\n",
    "# Fill in missing values with a default date\n",
    "df['date'] = df['date'].fillna(pd.to_datetime('2022-01-01'))\n",
    "\n",
    "# Print the resulting DataFrame\n",
    "print(df)\n"
   ]
  },
  {
   "cell_type": "code",
   "execution_count": null,
   "id": "db1f9864",
   "metadata": {},
   "outputs": [],
   "source": []
  }
 ],
 "metadata": {
  "kernelspec": {
   "display_name": "Python 3 (ipykernel)",
   "language": "python",
   "name": "python3"
  },
  "language_info": {
   "codemirror_mode": {
    "name": "ipython",
    "version": 3
   },
   "file_extension": ".py",
   "mimetype": "text/x-python",
   "name": "python",
   "nbconvert_exporter": "python",
   "pygments_lexer": "ipython3",
   "version": "3.9.7"
  }
 },
 "nbformat": 4,
 "nbformat_minor": 5
}
