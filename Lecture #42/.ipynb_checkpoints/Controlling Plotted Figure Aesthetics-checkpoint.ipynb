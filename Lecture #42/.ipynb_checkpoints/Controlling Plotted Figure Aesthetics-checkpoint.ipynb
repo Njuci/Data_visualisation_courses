{
 "cells": [
  {
   "cell_type": "code",
   "execution_count": null,
   "id": "e1dbbacb",
   "metadata": {},
   "outputs": [],
   "source": [
    "import seaborn as sns\n",
    "import matplotlib.pyplot as plt\n",
    "\n",
    "# Set the style, palette, and context\n",
    "#sns.set_style(\"whitegrid\")\n",
    "#sns.set_palette(\"Set2\")\n",
    "#sns.set_context(\"poster\")\n",
    "\n",
    "# Load the example tips dataset\n",
    "tips = sns.load_dataset(\"tips\")\n",
    "\n",
    "# Create a violin plot of total_bill and tip\n",
    "sns.violinplot(data=tips, x=\"day\", y=\"total_bill\")\n",
    "\n",
    "# Set the title\n",
    "plt.title(\"Total Bill by Day\")\n",
    "\n",
    "# Show the plot\n",
    "plt.show()\n"
   ]
  },
  {
   "cell_type": "code",
   "execution_count": null,
   "id": "e16d28e2",
   "metadata": {},
   "outputs": [],
   "source": []
  }
 ],
 "metadata": {
  "kernelspec": {
   "display_name": "Python 3 (ipykernel)",
   "language": "python",
   "name": "python3"
  },
  "language_info": {
   "codemirror_mode": {
    "name": "ipython",
    "version": 3
   },
   "file_extension": ".py",
   "mimetype": "text/x-python",
   "name": "python",
   "nbconvert_exporter": "python",
   "pygments_lexer": "ipython3",
   "version": "3.9.7"
  }
 },
 "nbformat": 4,
 "nbformat_minor": 5
}
