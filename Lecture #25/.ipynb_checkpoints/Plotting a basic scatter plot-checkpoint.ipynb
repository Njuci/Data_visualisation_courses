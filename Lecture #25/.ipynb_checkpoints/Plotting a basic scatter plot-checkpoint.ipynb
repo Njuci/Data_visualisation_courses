{
 "cells": [
  {
   "cell_type": "code",
   "execution_count": 29,
   "id": "15144103",
   "metadata": {},
   "outputs": [],
   "source": [
    "import matplotlib.pyplot as plt\n",
    "\n",
    "# Sample data\n",
    "x = [1, 2, 3, 4, 5,6,7,8,9,10]\n",
    "y = [2, 3, 2, 5, 1,4,9,2,6,3]\n",
    "\n",
    "# Create a scatter plot\n",
    "plt.scatter(x, y)\n",
    "\n",
    "# Add labels and title\n",
    "plt.xlabel('X-axis label')\n",
    "plt.ylabel('Y-axis label')\n",
    "plt.title('Basic Scatter Plot')\n",
    "\n",
    "# Display the plot\n",
    "plt.show()\n"
   ]
  },
  {
   "cell_type": "code",
   "execution_count": 31,
   "id": "9850e30d",
   "metadata": {},
   "outputs": [],
   "source": [
    "import matplotlib.pyplot as plt\n",
    "import numpy as np\n",
    "\n",
    "# Generate some random data\n",
    "x = np.random.normal(0, 1, 100)\n",
    "\n",
    "\n",
    "y = np.random.normal(0, 2, 100)\n",
    "\n",
    "colors = np.random.rand(100)\n",
    "sizes = 1000 * np.random.rand(100)\n",
    "\n",
    "\n",
    "# Create a scatter plot with custom colors and sizes\n",
    "plt.scatter(x, y, c=colors, s=sizes, alpha=0.5)\n",
    "\n",
    "# Add a colorbar\n",
    "#plt.colorbar()\n",
    "\n",
    "# Add labels and title\n",
    "plt.xlabel('X-axis label')\n",
    "plt.ylabel('Y-axis label')\n",
    "plt.title('Advanced Scatter Plot')\n",
    "\n",
    "# Display the plot\n",
    "plt.show()\n"
   ]
  },
  {
   "cell_type": "code",
   "execution_count": null,
   "id": "21d9de4e",
   "metadata": {},
   "outputs": [],
   "source": []
  },
  {
   "cell_type": "code",
   "execution_count": null,
   "id": "8d95e58b",
   "metadata": {},
   "outputs": [],
   "source": []
  }
 ],
 "metadata": {
  "kernelspec": {
   "display_name": "Python 3 (ipykernel)",
   "language": "python",
   "name": "python3"
  },
  "language_info": {
   "codemirror_mode": {
    "name": "ipython",
    "version": 3
   },
   "file_extension": ".py",
   "mimetype": "text/x-python",
   "name": "python",
   "nbconvert_exporter": "python",
   "pygments_lexer": "ipython3",
   "version": "3.9.7"
  }
 },
 "nbformat": 4,
 "nbformat_minor": 5
}
